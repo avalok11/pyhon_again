{
 "cells": [
  {
   "cell_type": "code",
   "execution_count": 1,
   "id": "e8309098",
   "metadata": {},
   "outputs": [],
   "source": [
    "import pandas as pd"
   ]
  },
  {
   "cell_type": "code",
   "execution_count": 2,
   "id": "878d25e5",
   "metadata": {},
   "outputs": [],
   "source": [
    "df = pd.read_csv('data_sf.csv.xls')"
   ]
  },
  {
   "cell_type": "code",
   "execution_count": 3,
   "id": "6b359be9",
   "metadata": {},
   "outputs": [],
   "source": [
    "small_df = df[df.columns[1:8]].head(25)"
   ]
  },
  {
   "cell_type": "code",
   "execution_count": 4,
   "id": "942a60bb",
   "metadata": {},
   "outputs": [
    {
     "data": {
      "text/html": [
       "<div>\n",
       "<style scoped>\n",
       "    .dataframe tbody tr th:only-of-type {\n",
       "        vertical-align: middle;\n",
       "    }\n",
       "\n",
       "    .dataframe tbody tr th {\n",
       "        vertical-align: top;\n",
       "    }\n",
       "\n",
       "    .dataframe thead th {\n",
       "        text-align: right;\n",
       "    }\n",
       "</style>\n",
       "<table border=\"1\" class=\"dataframe\">\n",
       "  <thead>\n",
       "    <tr style=\"text-align: right;\">\n",
       "      <th></th>\n",
       "      <th>Name</th>\n",
       "      <th>Age</th>\n",
       "      <th>Nationality</th>\n",
       "      <th>Club</th>\n",
       "      <th>Value</th>\n",
       "      <th>Wage</th>\n",
       "      <th>Position</th>\n",
       "    </tr>\n",
       "  </thead>\n",
       "  <tbody>\n",
       "    <tr>\n",
       "      <th>0</th>\n",
       "      <td>L. Messi</td>\n",
       "      <td>31</td>\n",
       "      <td>Argentina</td>\n",
       "      <td>FC Barcelona</td>\n",
       "      <td>110500000</td>\n",
       "      <td>565000</td>\n",
       "      <td>RF</td>\n",
       "    </tr>\n",
       "    <tr>\n",
       "      <th>1</th>\n",
       "      <td>Cristiano Ronaldo</td>\n",
       "      <td>33</td>\n",
       "      <td>Portugal</td>\n",
       "      <td>Juventus</td>\n",
       "      <td>77000000</td>\n",
       "      <td>405000</td>\n",
       "      <td>ST</td>\n",
       "    </tr>\n",
       "    <tr>\n",
       "      <th>2</th>\n",
       "      <td>Neymar Jr</td>\n",
       "      <td>26</td>\n",
       "      <td>Brazil</td>\n",
       "      <td>Paris Saint-Germain</td>\n",
       "      <td>118500000</td>\n",
       "      <td>290000</td>\n",
       "      <td>LW</td>\n",
       "    </tr>\n",
       "    <tr>\n",
       "      <th>3</th>\n",
       "      <td>De Gea</td>\n",
       "      <td>27</td>\n",
       "      <td>Spain</td>\n",
       "      <td>Manchester United</td>\n",
       "      <td>72000000</td>\n",
       "      <td>260000</td>\n",
       "      <td>GK</td>\n",
       "    </tr>\n",
       "    <tr>\n",
       "      <th>4</th>\n",
       "      <td>K. De Bruyne</td>\n",
       "      <td>27</td>\n",
       "      <td>Belgium</td>\n",
       "      <td>Manchester City</td>\n",
       "      <td>102000000</td>\n",
       "      <td>355000</td>\n",
       "      <td>RCM</td>\n",
       "    </tr>\n",
       "    <tr>\n",
       "      <th>5</th>\n",
       "      <td>E. Hazard</td>\n",
       "      <td>27</td>\n",
       "      <td>Belgium</td>\n",
       "      <td>Chelsea</td>\n",
       "      <td>93000000</td>\n",
       "      <td>340000</td>\n",
       "      <td>LF</td>\n",
       "    </tr>\n",
       "    <tr>\n",
       "      <th>6</th>\n",
       "      <td>L. Modrić</td>\n",
       "      <td>32</td>\n",
       "      <td>Croatia</td>\n",
       "      <td>Real Madrid</td>\n",
       "      <td>67000000</td>\n",
       "      <td>420000</td>\n",
       "      <td>RCM</td>\n",
       "    </tr>\n",
       "    <tr>\n",
       "      <th>7</th>\n",
       "      <td>L. Suárez</td>\n",
       "      <td>31</td>\n",
       "      <td>Uruguay</td>\n",
       "      <td>FC Barcelona</td>\n",
       "      <td>80000000</td>\n",
       "      <td>455000</td>\n",
       "      <td>RS</td>\n",
       "    </tr>\n",
       "    <tr>\n",
       "      <th>8</th>\n",
       "      <td>Sergio Ramos</td>\n",
       "      <td>32</td>\n",
       "      <td>Spain</td>\n",
       "      <td>Real Madrid</td>\n",
       "      <td>51000000</td>\n",
       "      <td>380000</td>\n",
       "      <td>RCB</td>\n",
       "    </tr>\n",
       "    <tr>\n",
       "      <th>9</th>\n",
       "      <td>J. Oblak</td>\n",
       "      <td>25</td>\n",
       "      <td>Slovenia</td>\n",
       "      <td>Atlético Madrid</td>\n",
       "      <td>68000000</td>\n",
       "      <td>94000</td>\n",
       "      <td>GK</td>\n",
       "    </tr>\n",
       "    <tr>\n",
       "      <th>10</th>\n",
       "      <td>R. Lewandowski</td>\n",
       "      <td>29</td>\n",
       "      <td>Poland</td>\n",
       "      <td>FC Bayern München</td>\n",
       "      <td>77000000</td>\n",
       "      <td>205000</td>\n",
       "      <td>ST</td>\n",
       "    </tr>\n",
       "    <tr>\n",
       "      <th>11</th>\n",
       "      <td>T. Kroos</td>\n",
       "      <td>28</td>\n",
       "      <td>Germany</td>\n",
       "      <td>Real Madrid</td>\n",
       "      <td>76500000</td>\n",
       "      <td>355000</td>\n",
       "      <td>LCM</td>\n",
       "    </tr>\n",
       "    <tr>\n",
       "      <th>12</th>\n",
       "      <td>D. Godín</td>\n",
       "      <td>32</td>\n",
       "      <td>Uruguay</td>\n",
       "      <td>Atlético Madrid</td>\n",
       "      <td>44000000</td>\n",
       "      <td>125000</td>\n",
       "      <td>CB</td>\n",
       "    </tr>\n",
       "    <tr>\n",
       "      <th>13</th>\n",
       "      <td>David Silva</td>\n",
       "      <td>32</td>\n",
       "      <td>Spain</td>\n",
       "      <td>Manchester City</td>\n",
       "      <td>60000000</td>\n",
       "      <td>285000</td>\n",
       "      <td>LCM</td>\n",
       "    </tr>\n",
       "    <tr>\n",
       "      <th>14</th>\n",
       "      <td>N. Kanté</td>\n",
       "      <td>27</td>\n",
       "      <td>France</td>\n",
       "      <td>Chelsea</td>\n",
       "      <td>63000000</td>\n",
       "      <td>225000</td>\n",
       "      <td>LDM</td>\n",
       "    </tr>\n",
       "    <tr>\n",
       "      <th>15</th>\n",
       "      <td>P. Dybala</td>\n",
       "      <td>24</td>\n",
       "      <td>Argentina</td>\n",
       "      <td>Juventus</td>\n",
       "      <td>89000000</td>\n",
       "      <td>205000</td>\n",
       "      <td>LF</td>\n",
       "    </tr>\n",
       "    <tr>\n",
       "      <th>16</th>\n",
       "      <td>H. Kane</td>\n",
       "      <td>24</td>\n",
       "      <td>England</td>\n",
       "      <td>Tottenham Hotspur</td>\n",
       "      <td>83500000</td>\n",
       "      <td>205000</td>\n",
       "      <td>ST</td>\n",
       "    </tr>\n",
       "    <tr>\n",
       "      <th>17</th>\n",
       "      <td>A. Griezmann</td>\n",
       "      <td>27</td>\n",
       "      <td>France</td>\n",
       "      <td>Atlético Madrid</td>\n",
       "      <td>78000000</td>\n",
       "      <td>145000</td>\n",
       "      <td>CAM</td>\n",
       "    </tr>\n",
       "    <tr>\n",
       "      <th>18</th>\n",
       "      <td>M. ter Stegen</td>\n",
       "      <td>26</td>\n",
       "      <td>Germany</td>\n",
       "      <td>FC Barcelona</td>\n",
       "      <td>58000000</td>\n",
       "      <td>240000</td>\n",
       "      <td>GK</td>\n",
       "    </tr>\n",
       "    <tr>\n",
       "      <th>19</th>\n",
       "      <td>T. Courtois</td>\n",
       "      <td>26</td>\n",
       "      <td>Belgium</td>\n",
       "      <td>Real Madrid</td>\n",
       "      <td>53500000</td>\n",
       "      <td>240000</td>\n",
       "      <td>GK</td>\n",
       "    </tr>\n",
       "    <tr>\n",
       "      <th>20</th>\n",
       "      <td>Sergio Busquets</td>\n",
       "      <td>29</td>\n",
       "      <td>Spain</td>\n",
       "      <td>FC Barcelona</td>\n",
       "      <td>51500000</td>\n",
       "      <td>315000</td>\n",
       "      <td>CDM</td>\n",
       "    </tr>\n",
       "    <tr>\n",
       "      <th>21</th>\n",
       "      <td>E. Cavani</td>\n",
       "      <td>31</td>\n",
       "      <td>Uruguay</td>\n",
       "      <td>Paris Saint-Germain</td>\n",
       "      <td>60000000</td>\n",
       "      <td>200000</td>\n",
       "      <td>LS</td>\n",
       "    </tr>\n",
       "    <tr>\n",
       "      <th>22</th>\n",
       "      <td>M. Neuer</td>\n",
       "      <td>32</td>\n",
       "      <td>Germany</td>\n",
       "      <td>FC Bayern München</td>\n",
       "      <td>38000000</td>\n",
       "      <td>130000</td>\n",
       "      <td>GK</td>\n",
       "    </tr>\n",
       "    <tr>\n",
       "      <th>23</th>\n",
       "      <td>S. Agüero</td>\n",
       "      <td>30</td>\n",
       "      <td>Argentina</td>\n",
       "      <td>Manchester City</td>\n",
       "      <td>64500000</td>\n",
       "      <td>300000</td>\n",
       "      <td>ST</td>\n",
       "    </tr>\n",
       "    <tr>\n",
       "      <th>24</th>\n",
       "      <td>G. Chiellini</td>\n",
       "      <td>33</td>\n",
       "      <td>Italy</td>\n",
       "      <td>Juventus</td>\n",
       "      <td>27000000</td>\n",
       "      <td>215000</td>\n",
       "      <td>LCB</td>\n",
       "    </tr>\n",
       "  </tbody>\n",
       "</table>\n",
       "</div>"
      ],
      "text/plain": [
       "                 Name  Age Nationality                 Club      Value  \\\n",
       "0            L. Messi   31   Argentina         FC Barcelona  110500000   \n",
       "1   Cristiano Ronaldo   33    Portugal             Juventus   77000000   \n",
       "2           Neymar Jr   26      Brazil  Paris Saint-Germain  118500000   \n",
       "3              De Gea   27       Spain    Manchester United   72000000   \n",
       "4        K. De Bruyne   27     Belgium      Manchester City  102000000   \n",
       "5           E. Hazard   27     Belgium              Chelsea   93000000   \n",
       "6           L. Modrić   32     Croatia          Real Madrid   67000000   \n",
       "7           L. Suárez   31     Uruguay         FC Barcelona   80000000   \n",
       "8        Sergio Ramos   32       Spain          Real Madrid   51000000   \n",
       "9            J. Oblak   25    Slovenia      Atlético Madrid   68000000   \n",
       "10     R. Lewandowski   29      Poland    FC Bayern München   77000000   \n",
       "11           T. Kroos   28     Germany          Real Madrid   76500000   \n",
       "12           D. Godín   32     Uruguay      Atlético Madrid   44000000   \n",
       "13        David Silva   32       Spain      Manchester City   60000000   \n",
       "14           N. Kanté   27      France              Chelsea   63000000   \n",
       "15          P. Dybala   24   Argentina             Juventus   89000000   \n",
       "16            H. Kane   24     England    Tottenham Hotspur   83500000   \n",
       "17       A. Griezmann   27      France      Atlético Madrid   78000000   \n",
       "18      M. ter Stegen   26     Germany         FC Barcelona   58000000   \n",
       "19        T. Courtois   26     Belgium          Real Madrid   53500000   \n",
       "20    Sergio Busquets   29       Spain         FC Barcelona   51500000   \n",
       "21          E. Cavani   31     Uruguay  Paris Saint-Germain   60000000   \n",
       "22           M. Neuer   32     Germany    FC Bayern München   38000000   \n",
       "23          S. Agüero   30   Argentina      Manchester City   64500000   \n",
       "24       G. Chiellini   33       Italy             Juventus   27000000   \n",
       "\n",
       "      Wage Position  \n",
       "0   565000       RF  \n",
       "1   405000       ST  \n",
       "2   290000       LW  \n",
       "3   260000       GK  \n",
       "4   355000      RCM  \n",
       "5   340000       LF  \n",
       "6   420000      RCM  \n",
       "7   455000       RS  \n",
       "8   380000      RCB  \n",
       "9    94000       GK  \n",
       "10  205000       ST  \n",
       "11  355000      LCM  \n",
       "12  125000       CB  \n",
       "13  285000      LCM  \n",
       "14  225000      LDM  \n",
       "15  205000       LF  \n",
       "16  205000       ST  \n",
       "17  145000      CAM  \n",
       "18  240000       GK  \n",
       "19  240000       GK  \n",
       "20  315000      CDM  \n",
       "21  200000       LS  \n",
       "22  130000       GK  \n",
       "23  300000       ST  \n",
       "24  215000      LCB  "
      ]
     },
     "execution_count": 4,
     "metadata": {},
     "output_type": "execute_result"
    }
   ],
   "source": [
    "small_df"
   ]
  },
  {
   "cell_type": "code",
   "execution_count": 7,
   "id": "5e9d7185",
   "metadata": {},
   "outputs": [
    {
     "data": {
      "text/plain": [
       "Spain        4\n",
       "Argentina    3\n",
       "Belgium      3\n",
       "Uruguay      3\n",
       "Germany      3\n",
       "France       2\n",
       "Portugal     1\n",
       "Brazil       1\n",
       "Croatia      1\n",
       "Slovenia     1\n",
       "Poland       1\n",
       "England      1\n",
       "Italy        1\n",
       "Name: Nationality, dtype: int64"
      ]
     },
     "metadata": {},
     "output_type": "display_data"
    }
   ],
   "source": [
    "s = small_df['Nationality'].value_counts()\n",
    "display(s)"
   ]
  },
  {
   "cell_type": "code",
   "execution_count": 8,
   "id": "2659d60a",
   "metadata": {},
   "outputs": [
    {
     "data": {
      "text/plain": [
       "pandas.core.series.Series"
      ]
     },
     "execution_count": 8,
     "metadata": {},
     "output_type": "execute_result"
    }
   ],
   "source": [
    "type(s)"
   ]
  },
  {
   "cell_type": "code",
   "execution_count": 9,
   "id": "72de9436",
   "metadata": {},
   "outputs": [
    {
     "data": {
      "text/plain": [
       "Spain        4\n",
       "Argentina    3\n",
       "Belgium      3\n",
       "Uruguay      3\n",
       "Germany      3\n",
       "France       2\n",
       "Portugal     1\n",
       "Brazil       1\n",
       "Croatia      1\n",
       "Slovenia     1\n",
       "Poland       1\n",
       "England      1\n",
       "Italy        1\n",
       "Name: Nationality, dtype: int64"
      ]
     },
     "execution_count": 9,
     "metadata": {},
     "output_type": "execute_result"
    }
   ],
   "source": [
    "s"
   ]
  },
  {
   "cell_type": "code",
   "execution_count": 12,
   "id": "5de0313c",
   "metadata": {},
   "outputs": [
    {
     "data": {
      "text/plain": [
       "Index(['Spain', 'Argentina', 'Belgium', 'Uruguay', 'Germany', 'France',\n",
       "       'Portugal', 'Brazil', 'Croatia', 'Slovenia', 'Poland', 'England',\n",
       "       'Italy'],\n",
       "      dtype='object')"
      ]
     },
     "execution_count": 12,
     "metadata": {},
     "output_type": "execute_result"
    }
   ],
   "source": [
    "s.index"
   ]
  },
  {
   "cell_type": "code",
   "execution_count": 13,
   "id": "9b8b08f7",
   "metadata": {},
   "outputs": [
    {
     "data": {
      "text/plain": [
       "'Spain'"
      ]
     },
     "execution_count": 13,
     "metadata": {},
     "output_type": "execute_result"
    }
   ],
   "source": [
    "s.index[0]"
   ]
  },
  {
   "cell_type": "code",
   "execution_count": 14,
   "id": "8262e5c7",
   "metadata": {},
   "outputs": [
    {
     "data": {
      "text/plain": [
       "13"
      ]
     },
     "execution_count": 14,
     "metadata": {},
     "output_type": "execute_result"
    }
   ],
   "source": [
    "len(s.index)"
   ]
  },
  {
   "cell_type": "code",
   "execution_count": 15,
   "id": "f9e211ea",
   "metadata": {},
   "outputs": [
    {
     "data": {
      "text/plain": [
       "3"
      ]
     },
     "execution_count": 15,
     "metadata": {},
     "output_type": "execute_result"
    }
   ],
   "source": [
    "s['Germany']"
   ]
  },
  {
   "cell_type": "code",
   "execution_count": 25,
   "id": "bfafc688",
   "metadata": {},
   "outputs": [
    {
     "data": {
      "text/html": [
       "<div>\n",
       "<style scoped>\n",
       "    .dataframe tbody tr th:only-of-type {\n",
       "        vertical-align: middle;\n",
       "    }\n",
       "\n",
       "    .dataframe tbody tr th {\n",
       "        vertical-align: top;\n",
       "    }\n",
       "\n",
       "    .dataframe thead th {\n",
       "        text-align: right;\n",
       "    }\n",
       "</style>\n",
       "<table border=\"1\" class=\"dataframe\">\n",
       "  <thead>\n",
       "    <tr style=\"text-align: right;\">\n",
       "      <th></th>\n",
       "      <th>Unnamed: 0</th>\n",
       "      <th>Name</th>\n",
       "      <th>Age</th>\n",
       "      <th>Nationality</th>\n",
       "      <th>Club</th>\n",
       "      <th>Value</th>\n",
       "      <th>Wage</th>\n",
       "      <th>Position</th>\n",
       "      <th>Crossing</th>\n",
       "      <th>Finishing</th>\n",
       "      <th>...</th>\n",
       "      <th>Penalties</th>\n",
       "      <th>Composure</th>\n",
       "      <th>Marking</th>\n",
       "      <th>StandingTackle</th>\n",
       "      <th>SlidingTackle</th>\n",
       "      <th>GKDiving</th>\n",
       "      <th>GKHandling</th>\n",
       "      <th>GKKicking</th>\n",
       "      <th>GKPositioning</th>\n",
       "      <th>GKReflexes</th>\n",
       "    </tr>\n",
       "  </thead>\n",
       "  <tbody>\n",
       "    <tr>\n",
       "      <th>0</th>\n",
       "      <td>0</td>\n",
       "      <td>L. Messi</td>\n",
       "      <td>31</td>\n",
       "      <td>Argentina</td>\n",
       "      <td>FC Barcelona</td>\n",
       "      <td>110500000</td>\n",
       "      <td>565000</td>\n",
       "      <td>RF</td>\n",
       "      <td>84</td>\n",
       "      <td>95</td>\n",
       "      <td>...</td>\n",
       "      <td>75</td>\n",
       "      <td>96</td>\n",
       "      <td>33</td>\n",
       "      <td>28</td>\n",
       "      <td>26</td>\n",
       "      <td>6</td>\n",
       "      <td>11</td>\n",
       "      <td>15</td>\n",
       "      <td>14</td>\n",
       "      <td>8</td>\n",
       "    </tr>\n",
       "    <tr>\n",
       "      <th>1</th>\n",
       "      <td>1</td>\n",
       "      <td>Cristiano Ronaldo</td>\n",
       "      <td>33</td>\n",
       "      <td>Portugal</td>\n",
       "      <td>Juventus</td>\n",
       "      <td>77000000</td>\n",
       "      <td>405000</td>\n",
       "      <td>ST</td>\n",
       "      <td>84</td>\n",
       "      <td>94</td>\n",
       "      <td>...</td>\n",
       "      <td>85</td>\n",
       "      <td>95</td>\n",
       "      <td>28</td>\n",
       "      <td>31</td>\n",
       "      <td>23</td>\n",
       "      <td>7</td>\n",
       "      <td>11</td>\n",
       "      <td>15</td>\n",
       "      <td>14</td>\n",
       "      <td>11</td>\n",
       "    </tr>\n",
       "  </tbody>\n",
       "</table>\n",
       "<p>2 rows × 42 columns</p>\n",
       "</div>"
      ],
      "text/plain": [
       "   Unnamed: 0               Name  Age Nationality          Club      Value  \\\n",
       "0           0           L. Messi   31   Argentina  FC Barcelona  110500000   \n",
       "1           1  Cristiano Ronaldo   33    Portugal      Juventus   77000000   \n",
       "\n",
       "     Wage Position  Crossing  Finishing  ...  Penalties  Composure  Marking  \\\n",
       "0  565000       RF        84         95  ...         75         96       33   \n",
       "1  405000       ST        84         94  ...         85         95       28   \n",
       "\n",
       "   StandingTackle  SlidingTackle  GKDiving  GKHandling  GKKicking  \\\n",
       "0              28             26         6          11         15   \n",
       "1              31             23         7          11         15   \n",
       "\n",
       "   GKPositioning  GKReflexes  \n",
       "0             14           8  \n",
       "1             14          11  \n",
       "\n",
       "[2 rows x 42 columns]"
      ]
     },
     "execution_count": 25,
     "metadata": {},
     "output_type": "execute_result"
    }
   ],
   "source": [
    "df.head(2)"
   ]
  },
  {
   "cell_type": "code",
   "execution_count": 22,
   "id": "a770a609",
   "metadata": {},
   "outputs": [
    {
     "data": {
      "text/plain": [
       "Spain        4\n",
       "Argentina    3\n",
       "Belgium      3\n",
       "Uruguay      3\n",
       "Germany      3\n",
       "France       2\n",
       "Name: Nationality, dtype: int64"
      ]
     },
     "execution_count": 22,
     "metadata": {},
     "output_type": "execute_result"
    }
   ],
   "source": [
    "s.loc[s>1]"
   ]
  },
  {
   "cell_type": "code",
   "execution_count": 26,
   "id": "7a75e128",
   "metadata": {},
   "outputs": [
    {
     "data": {
      "text/plain": [
       "650"
      ]
     },
     "execution_count": 26,
     "metadata": {},
     "output_type": "execute_result"
    }
   ],
   "source": [
    "len(df['Club'].value_counts())"
   ]
  },
  {
   "cell_type": "code",
   "execution_count": 29,
   "id": "ada3b8ba",
   "metadata": {},
   "outputs": [
    {
     "data": {
      "text/plain": [
       "Club Brugge KV       9\n",
       "Olympiacos CFP       8\n",
       "Cruzeiro             8\n",
       "FC Metz              8\n",
       "Dijon FCO            8\n",
       "Vitória Guimarães    7\n",
       "GD Chaves            7\n",
       "Dinamo Zagreb        7\n",
       "Atlético Mineiro     6\n",
       "Name: Club, dtype: int64"
      ]
     },
     "execution_count": 29,
     "metadata": {},
     "output_type": "execute_result"
    }
   ],
   "source": [
    "df['Club'].value_counts().tail(9)"
   ]
  },
  {
   "cell_type": "code",
   "execution_count": 30,
   "id": "cf58485c",
   "metadata": {},
   "outputs": [],
   "source": [
    "s = small_df['Nationality'].value_counts(normalize=True)"
   ]
  },
  {
   "cell_type": "code",
   "execution_count": 31,
   "id": "836bbab4",
   "metadata": {},
   "outputs": [
    {
     "data": {
      "text/plain": [
       "Spain        0.16\n",
       "Argentina    0.12\n",
       "Belgium      0.12\n",
       "Uruguay      0.12\n",
       "Germany      0.12\n",
       "France       0.08\n",
       "Portugal     0.04\n",
       "Brazil       0.04\n",
       "Croatia      0.04\n",
       "Slovenia     0.04\n",
       "Poland       0.04\n",
       "England      0.04\n",
       "Italy        0.04\n",
       "Name: Nationality, dtype: float64"
      ]
     },
     "metadata": {},
     "output_type": "display_data"
    }
   ],
   "source": [
    "display(s)"
   ]
  },
  {
   "cell_type": "code",
   "execution_count": 51,
   "id": "f5600556",
   "metadata": {},
   "outputs": [],
   "source": [
    "q = df['Position'].value_counts(normalize=True)>0.1"
   ]
  },
  {
   "cell_type": "code",
   "execution_count": 52,
   "id": "d9227117",
   "metadata": {},
   "outputs": [
    {
     "data": {
      "text/plain": [
       "GK    True\n",
       "ST    True\n",
       "CB    True\n",
       "Name: Position, dtype: bool"
      ]
     },
     "execution_count": 52,
     "metadata": {},
     "output_type": "execute_result"
    }
   ],
   "source": [
    "q.loc[q==True]"
   ]
  },
  {
   "cell_type": "code",
   "execution_count": 53,
   "id": "8b009173",
   "metadata": {},
   "outputs": [
    {
     "data": {
      "text/plain": [
       "GK     False\n",
       "ST     False\n",
       "CB     False\n",
       "CM     False\n",
       "LB     False\n",
       "RB     False\n",
       "RM     False\n",
       "LM     False\n",
       "CDM    False\n",
       "CAM    False\n",
       "RCB    False\n",
       "LCB    False\n",
       "LW     False\n",
       "RCM    False\n",
       "RW     False\n",
       "LCM    False\n",
       "LDM    False\n",
       "RDM    False\n",
       "LS      True\n",
       "RS      True\n",
       "RWB     True\n",
       "LWB     True\n",
       "CF      True\n",
       "LF      True\n",
       "LAM     True\n",
       "RF      True\n",
       "RAM     True\n",
       "Name: Position, dtype: bool"
      ]
     },
     "execution_count": 53,
     "metadata": {},
     "output_type": "execute_result"
    }
   ],
   "source": [
    "df['Position'].value_counts(normalize=True)<0.01"
   ]
  },
  {
   "cell_type": "code",
   "execution_count": 55,
   "id": "6c976f6b",
   "metadata": {},
   "outputs": [],
   "source": [
    "s = small_df['Age'].value_counts()"
   ]
  },
  {
   "cell_type": "code",
   "execution_count": null,
   "id": "46cedbf2",
   "metadata": {},
   "outputs": [],
   "source": []
  }
 ],
 "metadata": {
  "kernelspec": {
   "display_name": "Python 3 (ipykernel)",
   "language": "python",
   "name": "python3"
  },
  "language_info": {
   "codemirror_mode": {
    "name": "ipython",
    "version": 3
   },
   "file_extension": ".py",
   "mimetype": "text/x-python",
   "name": "python",
   "nbconvert_exporter": "python",
   "pygments_lexer": "ipython3",
   "version": "3.9.7"
  }
 },
 "nbformat": 4,
 "nbformat_minor": 5
}
